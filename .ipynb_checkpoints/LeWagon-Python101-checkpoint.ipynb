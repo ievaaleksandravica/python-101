{
 "cells": [
  {
   "cell_type": "markdown",
   "id": "a7ce3a7a",
   "metadata": {},
   "source": [
    "**Python-101: Variables**"
   ]
  },
  {
   "cell_type": "code",
   "execution_count": 7,
   "id": "709c8e6b",
   "metadata": {},
   "outputs": [],
   "source": [
    "# string or str type variable\n",
    "\"paris\""
   ]
  },
  {
   "cell_type": "code",
   "execution_count": 4,
   "id": "9100f64f",
   "metadata": {},
   "outputs": [],
   "source": [
    "# box named \"city\", containing string \"paris\"\n",
    "city = 'paris'"
   ]
  },
  {
   "cell_type": "code",
   "execution_count": 5,
   "id": "c312b48f",
   "metadata": {},
   "outputs": [
    {
     "data": {
      "text/plain": [
       "'paris'"
      ]
     },
     "execution_count": 5,
     "metadata": {},
     "output_type": "execute_result"
    }
   ],
   "source": [
    "city"
   ]
  },
  {
   "cell_type": "markdown",
   "id": "0632e142",
   "metadata": {},
   "source": [
    "**Python-101: Functions**"
   ]
  },
  {
   "cell_type": "code",
   "execution_count": 8,
   "id": "2ff9cad5",
   "metadata": {},
   "outputs": [
    {
     "data": {
      "text/plain": [
       "5"
      ]
     },
     "execution_count": 8,
     "metadata": {},
     "output_type": "execute_result"
    }
   ],
   "source": [
    "len(\"Paris\")"
   ]
  },
  {
   "cell_type": "code",
   "execution_count": 9,
   "id": "2092a971",
   "metadata": {},
   "outputs": [
    {
     "data": {
      "text/plain": [
       "5"
      ]
     },
     "execution_count": 9,
     "metadata": {},
     "output_type": "execute_result"
    }
   ],
   "source": [
    "len(city)"
   ]
  },
  {
   "cell_type": "code",
   "execution_count": 10,
   "id": "c3a47d48",
   "metadata": {},
   "outputs": [
    {
     "data": {
      "text/plain": [
       "'Paris'"
      ]
     },
     "execution_count": 10,
     "metadata": {},
     "output_type": "execute_result"
    }
   ],
   "source": [
    "city.capitalize()"
   ]
  },
  {
   "cell_type": "code",
   "execution_count": 11,
   "id": "8de40a7f",
   "metadata": {},
   "outputs": [
    {
     "data": {
      "text/plain": [
       "'PARIS'"
      ]
     },
     "execution_count": 11,
     "metadata": {},
     "output_type": "execute_result"
    }
   ],
   "source": [
    "city.upper()"
   ]
  },
  {
   "cell_type": "markdown",
   "id": "8f6b0e8a",
   "metadata": {},
   "source": [
    "**Python-101: Objects**"
   ]
  },
  {
   "cell_type": "code",
   "execution_count": 2,
   "id": "2ea51e4d",
   "metadata": {},
   "outputs": [],
   "source": [
    "name = \"Ieva\""
   ]
  },
  {
   "cell_type": "code",
   "execution_count": 3,
   "id": "e328597a",
   "metadata": {},
   "outputs": [
    {
     "data": {
      "text/plain": [
       "'Ieva'"
      ]
     },
     "execution_count": 3,
     "metadata": {},
     "output_type": "execute_result"
    }
   ],
   "source": [
    "name.capitalize()"
   ]
  },
  {
   "cell_type": "code",
   "execution_count": 4,
   "id": "8027ea5b",
   "metadata": {},
   "outputs": [
    {
     "data": {
      "text/plain": [
       "True"
      ]
     },
     "execution_count": 4,
     "metadata": {},
     "output_type": "execute_result"
    }
   ],
   "source": [
    "name.endswith(\"a\")"
   ]
  },
  {
   "cell_type": "code",
   "execution_count": 5,
   "id": "a4bdde72",
   "metadata": {},
   "outputs": [
    {
     "data": {
      "text/plain": [
       "False"
      ]
     },
     "execution_count": 5,
     "metadata": {},
     "output_type": "execute_result"
    }
   ],
   "source": [
    "name.endswith(\"o\")"
   ]
  },
  {
   "cell_type": "code",
   "execution_count": null,
   "id": "07d49664",
   "metadata": {},
   "outputs": [],
   "source": []
  }
 ],
 "metadata": {
  "kernelspec": {
   "display_name": "Python 3 (ipykernel)",
   "language": "python",
   "name": "python3"
  },
  "language_info": {
   "codemirror_mode": {
    "name": "ipython",
    "version": 3
   },
   "file_extension": ".py",
   "mimetype": "text/x-python",
   "name": "python",
   "nbconvert_exporter": "python",
   "pygments_lexer": "ipython3",
   "version": "3.10.4"
  }
 },
 "nbformat": 4,
 "nbformat_minor": 5
}
