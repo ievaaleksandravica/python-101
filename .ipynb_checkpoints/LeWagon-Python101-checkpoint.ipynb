{
 "cells": [
  {
   "cell_type": "markdown",
   "id": "a7ce3a7a",
   "metadata": {},
   "source": [
    "Python-101: Variables"
   ]
  },
  {
   "cell_type": "code",
   "execution_count": 7,
   "id": "709c8e6b",
   "metadata": {},
   "outputs": [],
   "source": [
    "# string or str type variable\n",
    "\"paris\""
   ]
  },
  {
   "cell_type": "code",
   "execution_count": 4,
   "id": "9100f64f",
   "metadata": {},
   "outputs": [],
   "source": [
    "# box named \"city\", containing string \"paris\"\n",
    "city = 'paris'"
   ]
  },
  {
   "cell_type": "code",
   "execution_count": 5,
   "id": "c312b48f",
   "metadata": {},
   "outputs": [
    {
     "data": {
      "text/plain": [
       "'paris'"
      ]
     },
     "execution_count": 5,
     "metadata": {},
     "output_type": "execute_result"
    }
   ],
   "source": [
    "city"
   ]
  },
  {
   "cell_type": "markdown",
   "id": "5e3ed1a7",
   "metadata": {},
   "source": [
    "Functions"
   ]
  },
  {
   "cell_type": "code",
   "execution_count": null,
   "id": "05ccdd1f",
   "metadata": {},
   "outputs": [],
   "source": []
  }
 ],
 "metadata": {
  "kernelspec": {
   "display_name": "Python 3 (ipykernel)",
   "language": "python",
   "name": "python3"
  },
  "language_info": {
   "codemirror_mode": {
    "name": "ipython",
    "version": 3
   },
   "file_extension": ".py",
   "mimetype": "text/x-python",
   "name": "python",
   "nbconvert_exporter": "python",
   "pygments_lexer": "ipython3",
   "version": "3.10.4"
  }
 },
 "nbformat": 4,
 "nbformat_minor": 5
}
