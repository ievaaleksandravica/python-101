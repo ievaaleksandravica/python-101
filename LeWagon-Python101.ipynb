{
 "cells": [
  {
   "cell_type": "markdown",
   "id": "a7ce3a7a",
   "metadata": {},
   "source": [
    "Python-101: Variables"
   ]
  },
  {
   "cell_type": "code",
   "execution_count": 1,
   "id": "709c8e6b",
   "metadata": {},
   "outputs": [
    {
     "data": {
      "text/plain": [
       "'paris'"
      ]
     },
     "execution_count": 1,
     "metadata": {},
     "output_type": "execute_result"
    }
   ],
   "source": [
    "\"paris\""
   ]
  },
  {
   "cell_type": "code",
   "execution_count": 4,
   "id": "9100f64f",
   "metadata": {},
   "outputs": [],
   "source": [
    "city = 'paris'"
   ]
  },
  {
   "cell_type": "code",
   "execution_count": null,
   "id": "c312b48f",
   "metadata": {},
   "outputs": [],
   "source": []
  }
 ],
 "metadata": {
  "kernelspec": {
   "display_name": "Python 3 (ipykernel)",
   "language": "python",
   "name": "python3"
  },
  "language_info": {
   "codemirror_mode": {
    "name": "ipython",
    "version": 3
   },
   "file_extension": ".py",
   "mimetype": "text/x-python",
   "name": "python",
   "nbconvert_exporter": "python",
   "pygments_lexer": "ipython3",
   "version": "3.10.4"
  }
 },
 "nbformat": 4,
 "nbformat_minor": 5
}
